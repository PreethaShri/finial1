{
 "cells": [
  {
   "cell_type": "code",
   "execution_count": 1,
   "metadata": {},
   "outputs": [],
   "source": [
    "#importing the required libraries\n",
    "import pandas as pd\n",
    "import numpy as np\n",
    "from sklearn.model_selection import train_test_split"
   ]
  },
  {
   "cell_type": "code",
   "execution_count": 2,
   "metadata": {},
   "outputs": [],
   "source": [
    "#Reading the csv file\n",
    "data=pd.read_csv('MergeFileCrop.csv.txt')\n",
    "name = data['label'].unique()\n",
    "name = list(name)"
   ]
  },
  {
   "cell_type": "code",
   "execution_count": 3,
   "metadata": {},
   "outputs": [
    {
     "data": {
      "text/plain": [
       "Unnamed: 0     False\n",
       "temperature    False\n",
       "humidity       False\n",
       "ph             False\n",
       "rainfall       False\n",
       "label          False\n",
       "dtype: bool"
      ]
     },
     "execution_count": 3,
     "metadata": {},
     "output_type": "execute_result"
    }
   ],
   "source": [
    "data.isnull().any()"
   ]
  },
  {
   "cell_type": "code",
   "execution_count": 4,
   "metadata": {},
   "outputs": [],
   "source": [
    "data= data.drop('Unnamed: 0',axis=1)"
   ]
  },
  {
   "cell_type": "code",
   "execution_count": 5,
   "metadata": {},
   "outputs": [
    {
     "name": "stdout",
     "output_type": "stream",
     "text": [
      "     temperature   humidity        ph   rainfall      label\n",
      "536    24.216103  59.792363  8.869533  42.247835  mothbeans\n"
     ]
    }
   ],
   "source": [
    "data = data.sample(frac = 1)  \n",
    "print(data.head(1))"
   ]
  },
  {
   "cell_type": "code",
   "execution_count": null,
   "metadata": {},
   "outputs": [],
   "source": [
    "#count =0\n",
    "#for i in data['label']:\n",
    "#        data['label'][i] == count\n",
    "#        count = count+1\n",
    "#print(data['label'])"
   ]
  },
  {
   "cell_type": "code",
   "execution_count": null,
   "metadata": {},
   "outputs": [],
   "source": [
    "#print(name)"
   ]
  },
  {
   "cell_type": "code",
   "execution_count": null,
   "metadata": {},
   "outputs": [],
   "source": [
    "#print(list(number))"
   ]
  },
  {
   "cell_type": "code",
   "execution_count": null,
   "metadata": {},
   "outputs": [],
   "source": [
    "#index1 = {\"name\":name,\n",
    "#         \"number\":number}  "
   ]
  },
  {
   "cell_type": "code",
   "execution_count": null,
   "metadata": {},
   "outputs": [],
   "source": []
  },
  {
   "cell_type": "code",
   "execution_count": null,
   "metadata": {},
   "outputs": [],
   "source": []
  },
  {
   "cell_type": "code",
   "execution_count": null,
   "metadata": {},
   "outputs": [],
   "source": []
  },
  {
   "cell_type": "code",
   "execution_count": null,
   "metadata": {},
   "outputs": [],
   "source": [
    "data.head(2)"
   ]
  },
  {
   "cell_type": "code",
   "execution_count": 6,
   "metadata": {},
   "outputs": [
    {
     "data": {
      "text/plain": [
       "<matplotlib.axes._subplots.AxesSubplot at 0x1b36ccd0b00>"
      ]
     },
     "execution_count": 6,
     "metadata": {},
     "output_type": "execute_result"
    }
   ],
   "source": [
    "import seaborn as sns\n",
    "sns.heatmap(data.corr())"
   ]
  },
  {
   "cell_type": "code",
   "execution_count": 20,
   "metadata": {},
   "outputs": [
    {
     "data": {
      "text/html": [
       "<div>\n",
       "<style scoped>\n",
       "    .dataframe tbody tr th:only-of-type {\n",
       "        vertical-align: middle;\n",
       "    }\n",
       "\n",
       "    .dataframe tbody tr th {\n",
       "        vertical-align: top;\n",
       "    }\n",
       "\n",
       "    .dataframe thead th {\n",
       "        text-align: right;\n",
       "    }\n",
       "</style>\n",
       "<table border=\"1\" class=\"dataframe\">\n",
       "  <thead>\n",
       "    <tr style=\"text-align: right;\">\n",
       "      <th></th>\n",
       "      <th>temperature</th>\n",
       "      <th>humidity</th>\n",
       "      <th>ph</th>\n",
       "      <th>rainfall</th>\n",
       "      <th>label</th>\n",
       "      <th>label1</th>\n",
       "    </tr>\n",
       "  </thead>\n",
       "  <tbody>\n",
       "    <tr>\n",
       "      <th>536</th>\n",
       "      <td>24.216103</td>\n",
       "      <td>59.792363</td>\n",
       "      <td>8.869533</td>\n",
       "      <td>42.247835</td>\n",
       "      <td>mothbeans</td>\n",
       "      <td>13</td>\n",
       "    </tr>\n",
       "    <tr>\n",
       "      <th>2139</th>\n",
       "      <td>26.022414</td>\n",
       "      <td>55.832890</td>\n",
       "      <td>7.277423</td>\n",
       "      <td>176.902092</td>\n",
       "      <td>coffee</td>\n",
       "      <td>5</td>\n",
       "    </tr>\n",
       "    <tr>\n",
       "      <th>66</th>\n",
       "      <td>21.143475</td>\n",
       "      <td>80.335029</td>\n",
       "      <td>5.594820</td>\n",
       "      <td>198.673094</td>\n",
       "      <td>rice</td>\n",
       "      <td>20</td>\n",
       "    </tr>\n",
       "    <tr>\n",
       "      <th>538</th>\n",
       "      <td>25.979490</td>\n",
       "      <td>64.955854</td>\n",
       "      <td>4.193189</td>\n",
       "      <td>72.192458</td>\n",
       "      <td>mothbeans</td>\n",
       "      <td>13</td>\n",
       "    </tr>\n",
       "    <tr>\n",
       "      <th>250</th>\n",
       "      <td>19.407517</td>\n",
       "      <td>18.980305</td>\n",
       "      <td>7.806748</td>\n",
       "      <td>80.250646</td>\n",
       "      <td>chickpea</td>\n",
       "      <td>3</td>\n",
       "    </tr>\n",
       "    <tr>\n",
       "      <th>294</th>\n",
       "      <td>20.714244</td>\n",
       "      <td>15.278241</td>\n",
       "      <td>7.103798</td>\n",
       "      <td>76.778887</td>\n",
       "      <td>chickpea</td>\n",
       "      <td>3</td>\n",
       "    </tr>\n",
       "    <tr>\n",
       "      <th>1258</th>\n",
       "      <td>19.364255</td>\n",
       "      <td>83.360940</td>\n",
       "      <td>5.980599</td>\n",
       "      <td>67.150947</td>\n",
       "      <td>grapes</td>\n",
       "      <td>7</td>\n",
       "    </tr>\n",
       "    <tr>\n",
       "      <th>2175</th>\n",
       "      <td>27.313171</td>\n",
       "      <td>68.423339</td>\n",
       "      <td>6.348338</td>\n",
       "      <td>192.428814</td>\n",
       "      <td>coffee</td>\n",
       "      <td>5</td>\n",
       "    </tr>\n",
       "    <tr>\n",
       "      <th>1845</th>\n",
       "      <td>27.542732</td>\n",
       "      <td>94.590861</td>\n",
       "      <td>6.362544</td>\n",
       "      <td>150.201214</td>\n",
       "      <td>coconut</td>\n",
       "      <td>4</td>\n",
       "    </tr>\n",
       "    <tr>\n",
       "      <th>1228</th>\n",
       "      <td>38.060995</td>\n",
       "      <td>82.247296</td>\n",
       "      <td>6.234904</td>\n",
       "      <td>65.701482</td>\n",
       "      <td>grapes</td>\n",
       "      <td>7</td>\n",
       "    </tr>\n",
       "    <tr>\n",
       "      <th>1367</th>\n",
       "      <td>24.644585</td>\n",
       "      <td>85.499382</td>\n",
       "      <td>6.343943</td>\n",
       "      <td>48.312190</td>\n",
       "      <td>watermelon</td>\n",
       "      <td>21</td>\n",
       "    </tr>\n",
       "    <tr>\n",
       "      <th>563</th>\n",
       "      <td>30.477577</td>\n",
       "      <td>61.582453</td>\n",
       "      <td>9.416003</td>\n",
       "      <td>61.866339</td>\n",
       "      <td>mothbeans</td>\n",
       "      <td>13</td>\n",
       "    </tr>\n",
       "  </tbody>\n",
       "</table>\n",
       "</div>"
      ],
      "text/plain": [
       "      temperature   humidity        ph    rainfall       label  label1\n",
       "536     24.216103  59.792363  8.869533   42.247835   mothbeans      13\n",
       "2139    26.022414  55.832890  7.277423  176.902092      coffee       5\n",
       "66      21.143475  80.335029  5.594820  198.673094        rice      20\n",
       "538     25.979490  64.955854  4.193189   72.192458   mothbeans      13\n",
       "250     19.407517  18.980305  7.806748   80.250646    chickpea       3\n",
       "294     20.714244  15.278241  7.103798   76.778887    chickpea       3\n",
       "1258    19.364255  83.360940  5.980599   67.150947      grapes       7\n",
       "2175    27.313171  68.423339  6.348338  192.428814      coffee       5\n",
       "1845    27.542732  94.590861  6.362544  150.201214     coconut       4\n",
       "1228    38.060995  82.247296  6.234904   65.701482      grapes       7\n",
       "1367    24.644585  85.499382  6.343943   48.312190  watermelon      21\n",
       "563     30.477577  61.582453  9.416003   61.866339   mothbeans      13"
      ]
     },
     "execution_count": 20,
     "metadata": {},
     "output_type": "execute_result"
    }
   ],
   "source": [
    "from sklearn.preprocessing import LabelEncoder\n",
    "le = LabelEncoder()\n",
    "data[\"label1\"] = le.fit_transform(data[\"label\"])\n",
    "data.head(12)"
   ]
  },
  {
   "cell_type": "code",
   "execution_count": 22,
   "metadata": {},
   "outputs": [],
   "source": [
    "index1 = {\"name\":data['label'].unique(),\n",
    "         \"number\":data['label1'].unique()}  "
   ]
  },
  {
   "cell_type": "code",
   "execution_count": 24,
   "metadata": {},
   "outputs": [
    {
     "data": {
      "text/html": [
       "<div>\n",
       "<style scoped>\n",
       "    .dataframe tbody tr th:only-of-type {\n",
       "        vertical-align: middle;\n",
       "    }\n",
       "\n",
       "    .dataframe tbody tr th {\n",
       "        vertical-align: top;\n",
       "    }\n",
       "\n",
       "    .dataframe thead th {\n",
       "        text-align: right;\n",
       "    }\n",
       "</style>\n",
       "<table border=\"1\" class=\"dataframe\">\n",
       "  <thead>\n",
       "    <tr style=\"text-align: right;\">\n",
       "      <th></th>\n",
       "      <th>name</th>\n",
       "      <th>number</th>\n",
       "    </tr>\n",
       "  </thead>\n",
       "  <tbody>\n",
       "    <tr>\n",
       "      <th>0</th>\n",
       "      <td>mothbeans</td>\n",
       "      <td>13</td>\n",
       "    </tr>\n",
       "    <tr>\n",
       "      <th>1</th>\n",
       "      <td>coffee</td>\n",
       "      <td>5</td>\n",
       "    </tr>\n",
       "    <tr>\n",
       "      <th>2</th>\n",
       "      <td>rice</td>\n",
       "      <td>20</td>\n",
       "    </tr>\n",
       "    <tr>\n",
       "      <th>3</th>\n",
       "      <td>chickpea</td>\n",
       "      <td>3</td>\n",
       "    </tr>\n",
       "    <tr>\n",
       "      <th>4</th>\n",
       "      <td>grapes</td>\n",
       "      <td>7</td>\n",
       "    </tr>\n",
       "    <tr>\n",
       "      <th>5</th>\n",
       "      <td>coconut</td>\n",
       "      <td>4</td>\n",
       "    </tr>\n",
       "    <tr>\n",
       "      <th>6</th>\n",
       "      <td>watermelon</td>\n",
       "      <td>21</td>\n",
       "    </tr>\n",
       "    <tr>\n",
       "      <th>7</th>\n",
       "      <td>mungbean</td>\n",
       "      <td>14</td>\n",
       "    </tr>\n",
       "    <tr>\n",
       "      <th>8</th>\n",
       "      <td>mango</td>\n",
       "      <td>12</td>\n",
       "    </tr>\n",
       "    <tr>\n",
       "      <th>9</th>\n",
       "      <td>jute</td>\n",
       "      <td>8</td>\n",
       "    </tr>\n",
       "    <tr>\n",
       "      <th>10</th>\n",
       "      <td>maize</td>\n",
       "      <td>11</td>\n",
       "    </tr>\n",
       "    <tr>\n",
       "      <th>11</th>\n",
       "      <td>apple</td>\n",
       "      <td>0</td>\n",
       "    </tr>\n",
       "  </tbody>\n",
       "</table>\n",
       "</div>"
      ],
      "text/plain": [
       "          name  number\n",
       "0    mothbeans      13\n",
       "1       coffee       5\n",
       "2         rice      20\n",
       "3     chickpea       3\n",
       "4       grapes       7\n",
       "5      coconut       4\n",
       "6   watermelon      21\n",
       "7     mungbean      14\n",
       "8        mango      12\n",
       "9         jute       8\n",
       "10       maize      11\n",
       "11       apple       0"
      ]
     },
     "execution_count": 24,
     "metadata": {},
     "output_type": "execute_result"
    }
   ],
   "source": [
    "df = pd.DataFrame(index1,columns = ['name','number'])\n",
    "df.head(12)"
   ]
  },
  {
   "cell_type": "code",
   "execution_count": 25,
   "metadata": {},
   "outputs": [
    {
     "data": {
      "text/html": [
       "<div>\n",
       "<style scoped>\n",
       "    .dataframe tbody tr th:only-of-type {\n",
       "        vertical-align: middle;\n",
       "    }\n",
       "\n",
       "    .dataframe tbody tr th {\n",
       "        vertical-align: top;\n",
       "    }\n",
       "\n",
       "    .dataframe thead th {\n",
       "        text-align: right;\n",
       "    }\n",
       "</style>\n",
       "<table border=\"1\" class=\"dataframe\">\n",
       "  <thead>\n",
       "    <tr style=\"text-align: right;\">\n",
       "      <th></th>\n",
       "      <th>name</th>\n",
       "      <th>number</th>\n",
       "    </tr>\n",
       "  </thead>\n",
       "  <tbody>\n",
       "    <tr>\n",
       "      <th>11</th>\n",
       "      <td>apple</td>\n",
       "      <td>0</td>\n",
       "    </tr>\n",
       "    <tr>\n",
       "      <th>21</th>\n",
       "      <td>banana</td>\n",
       "      <td>1</td>\n",
       "    </tr>\n",
       "    <tr>\n",
       "      <th>17</th>\n",
       "      <td>blackgram</td>\n",
       "      <td>2</td>\n",
       "    </tr>\n",
       "    <tr>\n",
       "      <th>3</th>\n",
       "      <td>chickpea</td>\n",
       "      <td>3</td>\n",
       "    </tr>\n",
       "    <tr>\n",
       "      <th>5</th>\n",
       "      <td>coconut</td>\n",
       "      <td>4</td>\n",
       "    </tr>\n",
       "    <tr>\n",
       "      <th>1</th>\n",
       "      <td>coffee</td>\n",
       "      <td>5</td>\n",
       "    </tr>\n",
       "    <tr>\n",
       "      <th>16</th>\n",
       "      <td>cotton</td>\n",
       "      <td>6</td>\n",
       "    </tr>\n",
       "    <tr>\n",
       "      <th>4</th>\n",
       "      <td>grapes</td>\n",
       "      <td>7</td>\n",
       "    </tr>\n",
       "    <tr>\n",
       "      <th>9</th>\n",
       "      <td>jute</td>\n",
       "      <td>8</td>\n",
       "    </tr>\n",
       "    <tr>\n",
       "      <th>14</th>\n",
       "      <td>kidneybeans</td>\n",
       "      <td>9</td>\n",
       "    </tr>\n",
       "    <tr>\n",
       "      <th>18</th>\n",
       "      <td>lentil</td>\n",
       "      <td>10</td>\n",
       "    </tr>\n",
       "    <tr>\n",
       "      <th>10</th>\n",
       "      <td>maize</td>\n",
       "      <td>11</td>\n",
       "    </tr>\n",
       "    <tr>\n",
       "      <th>8</th>\n",
       "      <td>mango</td>\n",
       "      <td>12</td>\n",
       "    </tr>\n",
       "    <tr>\n",
       "      <th>0</th>\n",
       "      <td>mothbeans</td>\n",
       "      <td>13</td>\n",
       "    </tr>\n",
       "    <tr>\n",
       "      <th>7</th>\n",
       "      <td>mungbean</td>\n",
       "      <td>14</td>\n",
       "    </tr>\n",
       "    <tr>\n",
       "      <th>12</th>\n",
       "      <td>muskmelon</td>\n",
       "      <td>15</td>\n",
       "    </tr>\n",
       "    <tr>\n",
       "      <th>20</th>\n",
       "      <td>orange</td>\n",
       "      <td>16</td>\n",
       "    </tr>\n",
       "    <tr>\n",
       "      <th>13</th>\n",
       "      <td>papaya</td>\n",
       "      <td>17</td>\n",
       "    </tr>\n",
       "    <tr>\n",
       "      <th>15</th>\n",
       "      <td>pigeonpeas</td>\n",
       "      <td>18</td>\n",
       "    </tr>\n",
       "    <tr>\n",
       "      <th>19</th>\n",
       "      <td>pomegranate</td>\n",
       "      <td>19</td>\n",
       "    </tr>\n",
       "    <tr>\n",
       "      <th>2</th>\n",
       "      <td>rice</td>\n",
       "      <td>20</td>\n",
       "    </tr>\n",
       "    <tr>\n",
       "      <th>6</th>\n",
       "      <td>watermelon</td>\n",
       "      <td>21</td>\n",
       "    </tr>\n",
       "  </tbody>\n",
       "</table>\n",
       "</div>"
      ],
      "text/plain": [
       "           name  number\n",
       "11        apple       0\n",
       "21       banana       1\n",
       "17    blackgram       2\n",
       "3      chickpea       3\n",
       "5       coconut       4\n",
       "1        coffee       5\n",
       "16       cotton       6\n",
       "4        grapes       7\n",
       "9          jute       8\n",
       "14  kidneybeans       9\n",
       "18       lentil      10\n",
       "10        maize      11\n",
       "8         mango      12\n",
       "0     mothbeans      13\n",
       "7      mungbean      14\n",
       "12    muskmelon      15\n",
       "20       orange      16\n",
       "13       papaya      17\n",
       "15   pigeonpeas      18\n",
       "19  pomegranate      19\n",
       "2          rice      20\n",
       "6    watermelon      21"
      ]
     },
     "execution_count": 25,
     "metadata": {},
     "output_type": "execute_result"
    }
   ],
   "source": [
    "df.sort_values(by = ['number'],ascending = True,inplace = True)\n",
    "df"
   ]
  },
  {
   "cell_type": "code",
   "execution_count": 26,
   "metadata": {},
   "outputs": [
    {
     "name": "stdout",
     "output_type": "stream",
     "text": [
      "['apple', 'banana', 'blackgram', 'chickpea', 'coconut', 'coffee', 'cotton', 'grapes', 'jute', 'kidneybeans', 'lentil', 'maize', 'mango', 'mothbeans', 'mungbean', 'muskmelon', 'orange', 'papaya', 'pigeonpeas', 'pomegranate', 'rice', 'watermelon']\n"
     ]
    }
   ],
   "source": [
    "index2 = df['name']\n",
    "index2 = list(index2)\n",
    "print(index2)"
   ]
  },
  {
   "cell_type": "code",
   "execution_count": 8,
   "metadata": {},
   "outputs": [
    {
     "data": {
      "text/plain": [
       "array([[13],\n",
       "       [ 5],\n",
       "       [20],\n",
       "       ...,\n",
       "       [ 2],\n",
       "       [ 8],\n",
       "       [ 7]])"
      ]
     },
     "execution_count": 8,
     "metadata": {},
     "output_type": "execute_result"
    }
   ],
   "source": [
    "x = data.iloc[:,0:4].values\n",
    "y = data.iloc[:,5:].values\n",
    "y"
   ]
  },
  {
   "cell_type": "code",
   "execution_count": 9,
   "metadata": {},
   "outputs": [
    {
     "data": {
      "text/plain": [
       "(2200, 4)"
      ]
     },
     "execution_count": 9,
     "metadata": {},
     "output_type": "execute_result"
    }
   ],
   "source": [
    "x.shape"
   ]
  },
  {
   "cell_type": "code",
   "execution_count": 10,
   "metadata": {},
   "outputs": [
    {
     "data": {
      "text/plain": [
       "array([[ 24.21610338,  59.79236306,   8.86953282,  42.24783476],\n",
       "       [ 26.02241444,  55.83288958,   7.27742274, 176.9020924 ],\n",
       "       [ 21.14347496,  80.33502926,   5.59481963, 198.6730942 ],\n",
       "       ...,\n",
       "       [ 29.36358721,  64.98742947,   7.36654265,  61.91208707],\n",
       "       [ 25.49674786,  81.13449097,   6.69107425, 169.9288234 ],\n",
       "       [ 17.66558428,  82.92903419,   6.3130856 ,  69.8671263 ]])"
      ]
     },
     "execution_count": 10,
     "metadata": {},
     "output_type": "execute_result"
    }
   ],
   "source": [
    "x"
   ]
  },
  {
   "cell_type": "code",
   "execution_count": 11,
   "metadata": {},
   "outputs": [
    {
     "data": {
      "text/plain": [
       "array([[13],\n",
       "       [ 5],\n",
       "       [20],\n",
       "       ...,\n",
       "       [ 2],\n",
       "       [ 8],\n",
       "       [ 7]])"
      ]
     },
     "execution_count": 11,
     "metadata": {},
     "output_type": "execute_result"
    }
   ],
   "source": [
    "y"
   ]
  },
  {
   "cell_type": "code",
   "execution_count": 12,
   "metadata": {},
   "outputs": [
    {
     "data": {
      "text/plain": [
       "(2200, 1)"
      ]
     },
     "execution_count": 12,
     "metadata": {},
     "output_type": "execute_result"
    }
   ],
   "source": [
    "y.shape"
   ]
  },
  {
   "cell_type": "code",
   "execution_count": 13,
   "metadata": {},
   "outputs": [],
   "source": [
    "from sklearn.model_selection import train_test_split\n",
    "Xtrain, Xtest, Ytrain, Ytest = train_test_split(x,y,test_size = 0.2,random_state =2)"
   ]
  },
  {
   "cell_type": "code",
   "execution_count": 14,
   "metadata": {},
   "outputs": [
    {
     "name": "stdout",
     "output_type": "stream",
     "text": [
      "RF's Accuracy is:  0.9727272727272728\n",
      "              precision    recall  f1-score   support\n",
      "\n",
      "           0       0.95      1.00      0.97        19\n",
      "           1       1.00      1.00      1.00        18\n",
      "           2       0.95      0.90      0.92        20\n",
      "           3       1.00      1.00      1.00        22\n",
      "           4       1.00      1.00      1.00        21\n",
      "           5       0.95      1.00      0.97        19\n",
      "           6       0.95      0.95      0.95        21\n",
      "           7       0.96      0.96      0.96        23\n",
      "           8       0.96      0.92      0.94        25\n",
      "           9       1.00      1.00      1.00        20\n",
      "          10       1.00      1.00      1.00        16\n",
      "          11       0.92      1.00      0.96        22\n",
      "          12       1.00      1.00      1.00        20\n",
      "          13       1.00      0.96      0.98        23\n",
      "          14       1.00      1.00      1.00        19\n",
      "          15       1.00      1.00      1.00        16\n",
      "          16       1.00      0.89      0.94        19\n",
      "          17       0.93      1.00      0.96        13\n",
      "          18       1.00      0.96      0.98        23\n",
      "          19       0.95      0.95      0.95        19\n",
      "          20       0.93      0.96      0.95        28\n",
      "          21       1.00      1.00      1.00        14\n",
      "\n",
      "    accuracy                           0.97       440\n",
      "   macro avg       0.97      0.97      0.97       440\n",
      "weighted avg       0.97      0.97      0.97       440\n",
      "\n"
     ]
    },
    {
     "name": "stderr",
     "output_type": "stream",
     "text": [
      "E:\\Users\\sai\\Anaconda3\\lib\\site-packages\\ipykernel_launcher.py:9: DataConversionWarning: A column-vector y was passed when a 1d array was expected. Please change the shape of y to (n_samples,), for example using ravel().\n",
      "  if __name__ == '__main__':\n"
     ]
    }
   ],
   "source": [
    "# RABDOM FOREST \n",
    "from sklearn.ensemble import RandomForestClassifier\n",
    "from sklearn.metrics import classification_report\n",
    "from sklearn import metrics\n",
    "from sklearn import tree\n",
    "acc=[]\n",
    "model=[]\n",
    "regressor = RandomForestClassifier(n_estimators=20, random_state=0)\n",
    "regressor.fit(Xtrain,Ytrain)\n",
    "\n",
    "predicted_values = regressor.predict(Xtest)\n",
    "\n",
    "x = metrics.accuracy_score(Ytest, predicted_values)\n",
    "acc.append(x)\n",
    "model.append('RF')\n",
    "print(\"RF's Accuracy is: \", x)\n",
    "\n",
    "print(classification_report(Ytest,predicted_values))"
   ]
  },
  {
   "cell_type": "code",
   "execution_count": 15,
   "metadata": {},
   "outputs": [
    {
     "name": "stdout",
     "output_type": "stream",
     "text": [
      "Naive Bayes's Accuracy is:  0.9590909090909091\n",
      "              precision    recall  f1-score   support\n",
      "\n",
      "           0       0.90      0.95      0.92        19\n",
      "           1       1.00      1.00      1.00        18\n",
      "           2       0.95      0.95      0.95        20\n",
      "           3       1.00      1.00      1.00        22\n",
      "           4       1.00      1.00      1.00        21\n",
      "           5       0.85      0.89      0.87        19\n",
      "           6       1.00      0.90      0.95        21\n",
      "           7       0.92      1.00      0.96        23\n",
      "           8       0.92      0.92      0.92        25\n",
      "           9       1.00      1.00      1.00        20\n",
      "          10       1.00      1.00      1.00        16\n",
      "          11       0.92      1.00      0.96        22\n",
      "          12       1.00      1.00      1.00        20\n",
      "          13       1.00      0.91      0.95        23\n",
      "          14       1.00      1.00      1.00        19\n",
      "          15       1.00      1.00      1.00        16\n",
      "          16       0.95      0.95      0.95        19\n",
      "          17       0.93      1.00      0.96        13\n",
      "          18       0.95      0.87      0.91        23\n",
      "          19       0.94      0.84      0.89        19\n",
      "          20       0.93      0.96      0.95        28\n",
      "          21       1.00      1.00      1.00        14\n",
      "\n",
      "    accuracy                           0.96       440\n",
      "   macro avg       0.96      0.96      0.96       440\n",
      "weighted avg       0.96      0.96      0.96       440\n",
      "\n"
     ]
    },
    {
     "name": "stderr",
     "output_type": "stream",
     "text": [
      "E:\\Users\\sai\\Anaconda3\\lib\\site-packages\\sklearn\\utils\\validation.py:72: DataConversionWarning: A column-vector y was passed when a 1d array was expected. Please change the shape of y to (n_samples, ), for example using ravel().\n",
      "  return f(**kwargs)\n"
     ]
    }
   ],
   "source": [
    "# NAVIE_BAYES\n",
    "from sklearn.naive_bayes import GaussianNB\n",
    "\n",
    "NaiveBayes = GaussianNB()\n",
    "\n",
    "NaiveBayes.fit(Xtrain,Ytrain)\n",
    "acc1 =[]\n",
    "model1 =[]\n",
    "predicted_values1 = NaiveBayes.predict(Xtest)\n",
    "x1= metrics.accuracy_score(Ytest, predicted_values1)\n",
    "acc1.append(x1)\n",
    "model1.append('Naive Bayes')\n",
    "print(\"Naive Bayes's Accuracy is: \", x1)\n",
    "\n",
    "print(classification_report(Ytest,predicted_values1))"
   ]
  },
  {
   "cell_type": "code",
   "execution_count": null,
   "metadata": {},
   "outputs": [],
   "source": [
    "#index = ['mungbean','pomegranate','pigeonpeas','chickpea','papaya','lentil','cotton', 'jute','grapes',\n",
    "#'coffee','apple','maize', 'coconut',  'banana','mango','blackgram','orange', 'rice','watermelon',\n",
    "#'mothbeans','kidneybeans']"
   ]
  },
  {
   "cell_type": "code",
   "execution_count": 28,
   "metadata": {},
   "outputs": [],
   "source": [
    "#index = data['label']"
   ]
  },
  {
   "cell_type": "code",
   "execution_count": 30,
   "metadata": {},
   "outputs": [
    {
     "name": "stdout",
     "output_type": "stream",
     "text": [
      "      temperature   humidity        ph    rainfall      label  label1\n",
      "536     24.216103  59.792363  8.869533   42.247835  mothbeans      13\n",
      "2139    26.022414  55.832890  7.277423  176.902092     coffee       5\n",
      "66      21.143475  80.335029  5.594820  198.673094       rice      20\n",
      "538     25.979490  64.955854  4.193189   72.192458  mothbeans      13\n",
      "250     19.407517  18.980305  7.806748   80.250646   chickpea       3\n",
      "294     20.714244  15.278241  7.103798   76.778887   chickpea       3\n",
      "1258    19.364255  83.360940  5.980599   67.150947     grapes       7\n",
      "2175    27.313171  68.423339  6.348338  192.428814     coffee       5\n",
      "1845    27.542732  94.590861  6.362544  150.201214    coconut       4\n",
      "----------------------------------\n",
      "5\n",
      "the suitable crop is coffee\n"
     ]
    }
   ],
   "source": [
    "y_p = regressor.predict(np.array([[27.35152643,55.99375012,7.13411409,148.98125249999998]]))\n",
    "y_list = (y_p.flatten('F'))\n",
    "import pandas as pd\n",
    "pd.set_option('display.max_columns', 34)\n",
    "print(data[:9])\n",
    "y_list = int(y_list)\n",
    "print(\"----------------------------------\")\n",
    "print(y_list)\n",
    "print(\"the suitable crop is\",index2[y_list])"
   ]
  },
  {
   "cell_type": "code",
   "execution_count": 31,
   "metadata": {},
   "outputs": [
    {
     "name": "stdout",
     "output_type": "stream",
     "text": [
      "      temperature   humidity        ph    rainfall      label  label1\n",
      "536     24.216103  59.792363  8.869533   42.247835  mothbeans      13\n",
      "2139    26.022414  55.832890  7.277423  176.902092     coffee       5\n",
      "66      21.143475  80.335029  5.594820  198.673094       rice      20\n",
      "538     25.979490  64.955854  4.193189   72.192458  mothbeans      13\n",
      "250     19.407517  18.980305  7.806748   80.250646   chickpea       3\n",
      "294     20.714244  15.278241  7.103798   76.778887   chickpea       3\n",
      "1258    19.364255  83.360940  5.980599   67.150947     grapes       7\n",
      "2175    27.313171  68.423339  6.348338  192.428814     coffee       5\n",
      "1845    27.542732  94.590861  6.362544  150.201214    coconut       4\n",
      "----------------------------------\n",
      "5\n",
      "the suitable crop is coffee\n"
     ]
    }
   ],
   "source": [
    "y_p1 = NaiveBayes.predict(np.array([[27.35152643,55.99375012,7.13411409,148.98125249999998]]))\n",
    "y_list1 = (y_p1.flatten('F'))\n",
    "import pandas as pd\n",
    "pd.set_option('display.max_columns', 34)\n",
    "print(data[:9])\n",
    "y_list1 = int(y_list1)\n",
    "print(\"----------------------------------\")\n",
    "print(y_list1)\n",
    "print(\"the suitable crop is\",index2[y_list1])"
   ]
  },
  {
   "cell_type": "code",
   "execution_count": null,
   "metadata": {},
   "outputs": [],
   "source": [
    "#27.33684386,88.50229102,7.033012777000001,51.09802625"
   ]
  },
  {
   "cell_type": "code",
   "execution_count": null,
   "metadata": {},
   "outputs": [],
   "source": []
  },
  {
   "cell_type": "code",
   "execution_count": null,
   "metadata": {},
   "outputs": [],
   "source": []
  },
  {
   "cell_type": "code",
   "execution_count": null,
   "metadata": {},
   "outputs": [],
   "source": []
  }
 ],
 "metadata": {
  "kernelspec": {
   "display_name": "Python 3",
   "language": "python",
   "name": "python3"
  },
  "language_info": {
   "codemirror_mode": {
    "name": "ipython",
    "version": 3
   },
   "file_extension": ".py",
   "mimetype": "text/x-python",
   "name": "python",
   "nbconvert_exporter": "python",
   "pygments_lexer": "ipython3",
   "version": "3.7.3"
  }
 },
 "nbformat": 4,
 "nbformat_minor": 2
}
