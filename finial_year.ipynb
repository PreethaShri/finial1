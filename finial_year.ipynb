{
 "cells": [
  {
   "cell_type": "code",
   "execution_count": 1,
   "metadata": {},
   "outputs": [],
   "source": [
    "#importing the required libraries\n",
    "import pandas as pd\n",
    "import numpy as np\n",
    "from sklearn.model_selection import train_test_split\n",
    "from sklearn.ensemble import RandomForestClassifier"
   ]
  },
  {
   "cell_type": "code",
   "execution_count": 2,
   "metadata": {},
   "outputs": [],
   "source": [
    "#Reading the csv file\n",
    "data=pd.read_csv('MergeFileCrop.csv.txt')\n",
    "name = data['label'].unique()\n",
    "name = list(name)"
   ]
  },
  {
   "cell_type": "code",
   "execution_count": 3,
   "metadata": {},
   "outputs": [
    {
     "data": {
      "text/plain": [
       "Unnamed: 0     False\n",
       "temperature    False\n",
       "humidity       False\n",
       "ph             False\n",
       "rainfall       False\n",
       "label          False\n",
       "dtype: bool"
      ]
     },
     "execution_count": 3,
     "metadata": {},
     "output_type": "execute_result"
    }
   ],
   "source": [
    "data.isnull().any()"
   ]
  },
  {
   "cell_type": "code",
   "execution_count": 4,
   "metadata": {},
   "outputs": [],
   "source": [
    "data= data.drop('Unnamed: 0',axis=1)"
   ]
  },
  {
   "cell_type": "code",
   "execution_count": 5,
   "metadata": {},
   "outputs": [
    {
     "name": "stdout",
     "output_type": "stream",
     "text": [
      "      temperature   humidity        ph  rainfall   label\n",
      "1207    12.141907  83.568125  5.647202  69.63122  grapes\n"
     ]
    }
   ],
   "source": [
    "data = data.sample(frac = 1)  \n",
    "print(data.head(1))"
   ]
  },
  {
   "cell_type": "code",
   "execution_count": 6,
   "metadata": {},
   "outputs": [],
   "source": [
    "#count =0\n",
    "#for i in data['label']:\n",
    "#        data['label'][i] == count\n",
    "#        count = count+1\n",
    "#print(data['label'])"
   ]
  },
  {
   "cell_type": "code",
   "execution_count": 7,
   "metadata": {},
   "outputs": [],
   "source": [
    "#print(name)"
   ]
  },
  {
   "cell_type": "code",
   "execution_count": 8,
   "metadata": {},
   "outputs": [],
   "source": [
    "#print(list(number))"
   ]
  },
  {
   "cell_type": "code",
   "execution_count": 9,
   "metadata": {},
   "outputs": [],
   "source": [
    "#index1 = {\"name\":name,\n",
    "#         \"number\":number}  "
   ]
  },
  {
   "cell_type": "code",
   "execution_count": 10,
   "metadata": {},
   "outputs": [
    {
     "data": {
      "text/html": [
       "<div>\n",
       "<style scoped>\n",
       "    .dataframe tbody tr th:only-of-type {\n",
       "        vertical-align: middle;\n",
       "    }\n",
       "\n",
       "    .dataframe tbody tr th {\n",
       "        vertical-align: top;\n",
       "    }\n",
       "\n",
       "    .dataframe thead th {\n",
       "        text-align: right;\n",
       "    }\n",
       "</style>\n",
       "<table border=\"1\" class=\"dataframe\">\n",
       "  <thead>\n",
       "    <tr style=\"text-align: right;\">\n",
       "      <th></th>\n",
       "      <th>temperature</th>\n",
       "      <th>humidity</th>\n",
       "      <th>ph</th>\n",
       "      <th>rainfall</th>\n",
       "      <th>label</th>\n",
       "    </tr>\n",
       "  </thead>\n",
       "  <tbody>\n",
       "    <tr>\n",
       "      <th>1207</th>\n",
       "      <td>12.141907</td>\n",
       "      <td>83.568125</td>\n",
       "      <td>5.647202</td>\n",
       "      <td>69.631220</td>\n",
       "      <td>grapes</td>\n",
       "    </tr>\n",
       "    <tr>\n",
       "      <th>587</th>\n",
       "      <td>30.888831</td>\n",
       "      <td>52.626968</td>\n",
       "      <td>8.634930</td>\n",
       "      <td>55.519324</td>\n",
       "      <td>mothbeans</td>\n",
       "    </tr>\n",
       "  </tbody>\n",
       "</table>\n",
       "</div>"
      ],
      "text/plain": [
       "      temperature   humidity        ph   rainfall      label\n",
       "1207    12.141907  83.568125  5.647202  69.631220     grapes\n",
       "587     30.888831  52.626968  8.634930  55.519324  mothbeans"
      ]
     },
     "execution_count": 10,
     "metadata": {},
     "output_type": "execute_result"
    }
   ],
   "source": [
    "data.head(2)"
   ]
  },
  {
   "cell_type": "code",
   "execution_count": 11,
   "metadata": {},
   "outputs": [
    {
     "data": {
      "text/plain": [
       "<matplotlib.axes._subplots.AxesSubplot at 0x204de96bfd0>"
      ]
     },
     "execution_count": 11,
     "metadata": {},
     "output_type": "execute_result"
    }
   ],
   "source": [
    "import seaborn as sns\n",
    "sns.heatmap(data.corr())"
   ]
  },
  {
   "cell_type": "code",
   "execution_count": 12,
   "metadata": {},
   "outputs": [
    {
     "data": {
      "text/html": [
       "<div>\n",
       "<style scoped>\n",
       "    .dataframe tbody tr th:only-of-type {\n",
       "        vertical-align: middle;\n",
       "    }\n",
       "\n",
       "    .dataframe tbody tr th {\n",
       "        vertical-align: top;\n",
       "    }\n",
       "\n",
       "    .dataframe thead th {\n",
       "        text-align: right;\n",
       "    }\n",
       "</style>\n",
       "<table border=\"1\" class=\"dataframe\">\n",
       "  <thead>\n",
       "    <tr style=\"text-align: right;\">\n",
       "      <th></th>\n",
       "      <th>temperature</th>\n",
       "      <th>humidity</th>\n",
       "      <th>ph</th>\n",
       "      <th>rainfall</th>\n",
       "      <th>label</th>\n",
       "      <th>label1</th>\n",
       "    </tr>\n",
       "  </thead>\n",
       "  <tbody>\n",
       "    <tr>\n",
       "      <th>1207</th>\n",
       "      <td>12.141907</td>\n",
       "      <td>83.568125</td>\n",
       "      <td>5.647202</td>\n",
       "      <td>69.631220</td>\n",
       "      <td>grapes</td>\n",
       "      <td>7</td>\n",
       "    </tr>\n",
       "    <tr>\n",
       "      <th>587</th>\n",
       "      <td>30.888831</td>\n",
       "      <td>52.626968</td>\n",
       "      <td>8.634930</td>\n",
       "      <td>55.519324</td>\n",
       "      <td>mothbeans</td>\n",
       "      <td>13</td>\n",
       "    </tr>\n",
       "    <tr>\n",
       "      <th>893</th>\n",
       "      <td>27.996279</td>\n",
       "      <td>68.642859</td>\n",
       "      <td>7.327110</td>\n",
       "      <td>46.105852</td>\n",
       "      <td>lentil</td>\n",
       "      <td>10</td>\n",
       "    </tr>\n",
       "    <tr>\n",
       "      <th>1127</th>\n",
       "      <td>29.980805</td>\n",
       "      <td>49.486133</td>\n",
       "      <td>6.442393</td>\n",
       "      <td>91.822716</td>\n",
       "      <td>mango</td>\n",
       "      <td>12</td>\n",
       "    </tr>\n",
       "    <tr>\n",
       "      <th>1508</th>\n",
       "      <td>21.911913</td>\n",
       "      <td>91.687481</td>\n",
       "      <td>6.499227</td>\n",
       "      <td>117.076128</td>\n",
       "      <td>apple</td>\n",
       "      <td>0</td>\n",
       "    </tr>\n",
       "    <tr>\n",
       "      <th>1905</th>\n",
       "      <td>24.694571</td>\n",
       "      <td>81.735888</td>\n",
       "      <td>6.628723</td>\n",
       "      <td>78.584944</td>\n",
       "      <td>cotton</td>\n",
       "      <td>6</td>\n",
       "    </tr>\n",
       "    <tr>\n",
       "      <th>1132</th>\n",
       "      <td>35.787774</td>\n",
       "      <td>51.941903</td>\n",
       "      <td>5.395276</td>\n",
       "      <td>100.216061</td>\n",
       "      <td>mango</td>\n",
       "      <td>12</td>\n",
       "    </tr>\n",
       "    <tr>\n",
       "      <th>2183</th>\n",
       "      <td>24.592457</td>\n",
       "      <td>56.468296</td>\n",
       "      <td>7.288212</td>\n",
       "      <td>137.704405</td>\n",
       "      <td>coffee</td>\n",
       "      <td>5</td>\n",
       "    </tr>\n",
       "    <tr>\n",
       "      <th>278</th>\n",
       "      <td>19.462104</td>\n",
       "      <td>18.728320</td>\n",
       "      <td>7.217018</td>\n",
       "      <td>68.814051</td>\n",
       "      <td>chickpea</td>\n",
       "      <td>3</td>\n",
       "    </tr>\n",
       "    <tr>\n",
       "      <th>701</th>\n",
       "      <td>26.734340</td>\n",
       "      <td>68.139997</td>\n",
       "      <td>7.040056</td>\n",
       "      <td>67.150964</td>\n",
       "      <td>blackgram</td>\n",
       "      <td>2</td>\n",
       "    </tr>\n",
       "    <tr>\n",
       "      <th>1991</th>\n",
       "      <td>22.008171</td>\n",
       "      <td>81.838961</td>\n",
       "      <td>7.762648</td>\n",
       "      <td>92.236452</td>\n",
       "      <td>cotton</td>\n",
       "      <td>6</td>\n",
       "    </tr>\n",
       "    <tr>\n",
       "      <th>1035</th>\n",
       "      <td>27.572781</td>\n",
       "      <td>82.063888</td>\n",
       "      <td>6.435786</td>\n",
       "      <td>91.342765</td>\n",
       "      <td>banana</td>\n",
       "      <td>1</td>\n",
       "    </tr>\n",
       "  </tbody>\n",
       "</table>\n",
       "</div>"
      ],
      "text/plain": [
       "      temperature   humidity        ph    rainfall      label  label1\n",
       "1207    12.141907  83.568125  5.647202   69.631220     grapes       7\n",
       "587     30.888831  52.626968  8.634930   55.519324  mothbeans      13\n",
       "893     27.996279  68.642859  7.327110   46.105852     lentil      10\n",
       "1127    29.980805  49.486133  6.442393   91.822716      mango      12\n",
       "1508    21.911913  91.687481  6.499227  117.076128      apple       0\n",
       "1905    24.694571  81.735888  6.628723   78.584944     cotton       6\n",
       "1132    35.787774  51.941903  5.395276  100.216061      mango      12\n",
       "2183    24.592457  56.468296  7.288212  137.704405     coffee       5\n",
       "278     19.462104  18.728320  7.217018   68.814051   chickpea       3\n",
       "701     26.734340  68.139997  7.040056   67.150964  blackgram       2\n",
       "1991    22.008171  81.838961  7.762648   92.236452     cotton       6\n",
       "1035    27.572781  82.063888  6.435786   91.342765     banana       1"
      ]
     },
     "execution_count": 12,
     "metadata": {},
     "output_type": "execute_result"
    }
   ],
   "source": [
    "from sklearn.preprocessing import LabelEncoder\n",
    "le = LabelEncoder()\n",
    "data[\"label1\"] = le.fit_transform(data[\"label\"])\n",
    "data.head(12)"
   ]
  },
  {
   "cell_type": "code",
   "execution_count": 13,
   "metadata": {},
   "outputs": [],
   "source": [
    "index1 = {\"name\":data['label'].unique(),\n",
    "         \"number\":data['label1'].unique()}  "
   ]
  },
  {
   "cell_type": "code",
   "execution_count": 14,
   "metadata": {},
   "outputs": [
    {
     "data": {
      "text/html": [
       "<div>\n",
       "<style scoped>\n",
       "    .dataframe tbody tr th:only-of-type {\n",
       "        vertical-align: middle;\n",
       "    }\n",
       "\n",
       "    .dataframe tbody tr th {\n",
       "        vertical-align: top;\n",
       "    }\n",
       "\n",
       "    .dataframe thead th {\n",
       "        text-align: right;\n",
       "    }\n",
       "</style>\n",
       "<table border=\"1\" class=\"dataframe\">\n",
       "  <thead>\n",
       "    <tr style=\"text-align: right;\">\n",
       "      <th></th>\n",
       "      <th>name</th>\n",
       "      <th>number</th>\n",
       "    </tr>\n",
       "  </thead>\n",
       "  <tbody>\n",
       "    <tr>\n",
       "      <th>0</th>\n",
       "      <td>grapes</td>\n",
       "      <td>7</td>\n",
       "    </tr>\n",
       "    <tr>\n",
       "      <th>1</th>\n",
       "      <td>mothbeans</td>\n",
       "      <td>13</td>\n",
       "    </tr>\n",
       "    <tr>\n",
       "      <th>2</th>\n",
       "      <td>lentil</td>\n",
       "      <td>10</td>\n",
       "    </tr>\n",
       "    <tr>\n",
       "      <th>3</th>\n",
       "      <td>mango</td>\n",
       "      <td>12</td>\n",
       "    </tr>\n",
       "    <tr>\n",
       "      <th>4</th>\n",
       "      <td>apple</td>\n",
       "      <td>0</td>\n",
       "    </tr>\n",
       "    <tr>\n",
       "      <th>5</th>\n",
       "      <td>cotton</td>\n",
       "      <td>6</td>\n",
       "    </tr>\n",
       "    <tr>\n",
       "      <th>6</th>\n",
       "      <td>coffee</td>\n",
       "      <td>5</td>\n",
       "    </tr>\n",
       "    <tr>\n",
       "      <th>7</th>\n",
       "      <td>chickpea</td>\n",
       "      <td>3</td>\n",
       "    </tr>\n",
       "    <tr>\n",
       "      <th>8</th>\n",
       "      <td>blackgram</td>\n",
       "      <td>2</td>\n",
       "    </tr>\n",
       "    <tr>\n",
       "      <th>9</th>\n",
       "      <td>banana</td>\n",
       "      <td>1</td>\n",
       "    </tr>\n",
       "    <tr>\n",
       "      <th>10</th>\n",
       "      <td>coconut</td>\n",
       "      <td>4</td>\n",
       "    </tr>\n",
       "    <tr>\n",
       "      <th>11</th>\n",
       "      <td>maize</td>\n",
       "      <td>11</td>\n",
       "    </tr>\n",
       "  </tbody>\n",
       "</table>\n",
       "</div>"
      ],
      "text/plain": [
       "         name  number\n",
       "0      grapes       7\n",
       "1   mothbeans      13\n",
       "2      lentil      10\n",
       "3       mango      12\n",
       "4       apple       0\n",
       "5      cotton       6\n",
       "6      coffee       5\n",
       "7    chickpea       3\n",
       "8   blackgram       2\n",
       "9      banana       1\n",
       "10    coconut       4\n",
       "11      maize      11"
      ]
     },
     "execution_count": 14,
     "metadata": {},
     "output_type": "execute_result"
    }
   ],
   "source": [
    "df = pd.DataFrame(index1,columns = ['name','number'])\n",
    "df.head(12)"
   ]
  },
  {
   "cell_type": "code",
   "execution_count": 15,
   "metadata": {},
   "outputs": [
    {
     "data": {
      "text/html": [
       "<div>\n",
       "<style scoped>\n",
       "    .dataframe tbody tr th:only-of-type {\n",
       "        vertical-align: middle;\n",
       "    }\n",
       "\n",
       "    .dataframe tbody tr th {\n",
       "        vertical-align: top;\n",
       "    }\n",
       "\n",
       "    .dataframe thead th {\n",
       "        text-align: right;\n",
       "    }\n",
       "</style>\n",
       "<table border=\"1\" class=\"dataframe\">\n",
       "  <thead>\n",
       "    <tr style=\"text-align: right;\">\n",
       "      <th></th>\n",
       "      <th>name</th>\n",
       "      <th>number</th>\n",
       "    </tr>\n",
       "  </thead>\n",
       "  <tbody>\n",
       "    <tr>\n",
       "      <th>4</th>\n",
       "      <td>apple</td>\n",
       "      <td>0</td>\n",
       "    </tr>\n",
       "    <tr>\n",
       "      <th>9</th>\n",
       "      <td>banana</td>\n",
       "      <td>1</td>\n",
       "    </tr>\n",
       "    <tr>\n",
       "      <th>8</th>\n",
       "      <td>blackgram</td>\n",
       "      <td>2</td>\n",
       "    </tr>\n",
       "    <tr>\n",
       "      <th>7</th>\n",
       "      <td>chickpea</td>\n",
       "      <td>3</td>\n",
       "    </tr>\n",
       "    <tr>\n",
       "      <th>10</th>\n",
       "      <td>coconut</td>\n",
       "      <td>4</td>\n",
       "    </tr>\n",
       "    <tr>\n",
       "      <th>6</th>\n",
       "      <td>coffee</td>\n",
       "      <td>5</td>\n",
       "    </tr>\n",
       "    <tr>\n",
       "      <th>5</th>\n",
       "      <td>cotton</td>\n",
       "      <td>6</td>\n",
       "    </tr>\n",
       "    <tr>\n",
       "      <th>0</th>\n",
       "      <td>grapes</td>\n",
       "      <td>7</td>\n",
       "    </tr>\n",
       "    <tr>\n",
       "      <th>19</th>\n",
       "      <td>jute</td>\n",
       "      <td>8</td>\n",
       "    </tr>\n",
       "    <tr>\n",
       "      <th>21</th>\n",
       "      <td>kidneybeans</td>\n",
       "      <td>9</td>\n",
       "    </tr>\n",
       "    <tr>\n",
       "      <th>2</th>\n",
       "      <td>lentil</td>\n",
       "      <td>10</td>\n",
       "    </tr>\n",
       "    <tr>\n",
       "      <th>11</th>\n",
       "      <td>maize</td>\n",
       "      <td>11</td>\n",
       "    </tr>\n",
       "    <tr>\n",
       "      <th>3</th>\n",
       "      <td>mango</td>\n",
       "      <td>12</td>\n",
       "    </tr>\n",
       "    <tr>\n",
       "      <th>1</th>\n",
       "      <td>mothbeans</td>\n",
       "      <td>13</td>\n",
       "    </tr>\n",
       "    <tr>\n",
       "      <th>17</th>\n",
       "      <td>mungbean</td>\n",
       "      <td>14</td>\n",
       "    </tr>\n",
       "    <tr>\n",
       "      <th>20</th>\n",
       "      <td>muskmelon</td>\n",
       "      <td>15</td>\n",
       "    </tr>\n",
       "    <tr>\n",
       "      <th>13</th>\n",
       "      <td>orange</td>\n",
       "      <td>16</td>\n",
       "    </tr>\n",
       "    <tr>\n",
       "      <th>12</th>\n",
       "      <td>papaya</td>\n",
       "      <td>17</td>\n",
       "    </tr>\n",
       "    <tr>\n",
       "      <th>16</th>\n",
       "      <td>pigeonpeas</td>\n",
       "      <td>18</td>\n",
       "    </tr>\n",
       "    <tr>\n",
       "      <th>14</th>\n",
       "      <td>pomegranate</td>\n",
       "      <td>19</td>\n",
       "    </tr>\n",
       "    <tr>\n",
       "      <th>18</th>\n",
       "      <td>rice</td>\n",
       "      <td>20</td>\n",
       "    </tr>\n",
       "    <tr>\n",
       "      <th>15</th>\n",
       "      <td>watermelon</td>\n",
       "      <td>21</td>\n",
       "    </tr>\n",
       "  </tbody>\n",
       "</table>\n",
       "</div>"
      ],
      "text/plain": [
       "           name  number\n",
       "4         apple       0\n",
       "9        banana       1\n",
       "8     blackgram       2\n",
       "7      chickpea       3\n",
       "10      coconut       4\n",
       "6        coffee       5\n",
       "5        cotton       6\n",
       "0        grapes       7\n",
       "19         jute       8\n",
       "21  kidneybeans       9\n",
       "2        lentil      10\n",
       "11        maize      11\n",
       "3         mango      12\n",
       "1     mothbeans      13\n",
       "17     mungbean      14\n",
       "20    muskmelon      15\n",
       "13       orange      16\n",
       "12       papaya      17\n",
       "16   pigeonpeas      18\n",
       "14  pomegranate      19\n",
       "18         rice      20\n",
       "15   watermelon      21"
      ]
     },
     "execution_count": 15,
     "metadata": {},
     "output_type": "execute_result"
    }
   ],
   "source": [
    "df.sort_values(by = ['number'],ascending = True,inplace = True)\n",
    "df"
   ]
  },
  {
   "cell_type": "code",
   "execution_count": 16,
   "metadata": {},
   "outputs": [
    {
     "name": "stdout",
     "output_type": "stream",
     "text": [
      "['apple', 'banana', 'blackgram', 'chickpea', 'coconut', 'coffee', 'cotton', 'grapes', 'jute', 'kidneybeans', 'lentil', 'maize', 'mango', 'mothbeans', 'mungbean', 'muskmelon', 'orange', 'papaya', 'pigeonpeas', 'pomegranate', 'rice', 'watermelon']\n"
     ]
    }
   ],
   "source": [
    "index2 = df['name']\n",
    "index2 = list(index2)\n",
    "print(index2)"
   ]
  },
  {
   "cell_type": "code",
   "execution_count": 17,
   "metadata": {},
   "outputs": [
    {
     "data": {
      "text/plain": [
       "array([[ 7],\n",
       "       [13],\n",
       "       [10],\n",
       "       ...,\n",
       "       [ 6],\n",
       "       [ 4],\n",
       "       [ 0]])"
      ]
     },
     "execution_count": 17,
     "metadata": {},
     "output_type": "execute_result"
    }
   ],
   "source": [
    "x = data.iloc[:,0:4].values\n",
    "y = data.iloc[:,5:].values\n",
    "y"
   ]
  },
  {
   "cell_type": "code",
   "execution_count": 18,
   "metadata": {},
   "outputs": [
    {
     "data": {
      "text/plain": [
       "(2200, 4)"
      ]
     },
     "execution_count": 18,
     "metadata": {},
     "output_type": "execute_result"
    }
   ],
   "source": [
    "x.shape"
   ]
  },
  {
   "cell_type": "code",
   "execution_count": 19,
   "metadata": {},
   "outputs": [
    {
     "data": {
      "text/plain": [
       "array([[ 12.14190714,  83.56812483,   5.64720239,  69.63122027],\n",
       "       [ 30.88883074,  52.62696801,   8.63492974,  55.51932414],\n",
       "       [ 27.99627907,  68.6428593 ,   7.32710972,  46.10585191],\n",
       "       ...,\n",
       "       [ 22.04612876,  84.62978302,   6.14463179,  86.00758678],\n",
       "       [ 26.93141945,  98.80313612,   5.67154928, 166.5712879 ],\n",
       "       [ 23.80436344,  92.80441624,   6.02424879, 100.6192543 ]])"
      ]
     },
     "execution_count": 19,
     "metadata": {},
     "output_type": "execute_result"
    }
   ],
   "source": [
    "x"
   ]
  },
  {
   "cell_type": "code",
   "execution_count": 20,
   "metadata": {},
   "outputs": [
    {
     "data": {
      "text/plain": [
       "array([[ 7],\n",
       "       [13],\n",
       "       [10],\n",
       "       ...,\n",
       "       [ 6],\n",
       "       [ 4],\n",
       "       [ 0]])"
      ]
     },
     "execution_count": 20,
     "metadata": {},
     "output_type": "execute_result"
    }
   ],
   "source": [
    "y"
   ]
  },
  {
   "cell_type": "code",
   "execution_count": 21,
   "metadata": {},
   "outputs": [
    {
     "data": {
      "text/plain": [
       "(2200, 1)"
      ]
     },
     "execution_count": 21,
     "metadata": {},
     "output_type": "execute_result"
    }
   ],
   "source": [
    "y.shape"
   ]
  },
  {
   "cell_type": "code",
   "execution_count": 22,
   "metadata": {},
   "outputs": [],
   "source": [
    "from sklearn.model_selection import train_test_split\n",
    "Xtrain, Xtest, Ytrain, Ytest = train_test_split(x,y,test_size = 0.2,random_state =2)"
   ]
  },
  {
   "cell_type": "code",
   "execution_count": 23,
   "metadata": {},
   "outputs": [
    {
     "name": "stderr",
     "output_type": "stream",
     "text": [
      "E:\\Users\\sai\\Anaconda3\\lib\\site-packages\\ipykernel_launcher.py:9: DataConversionWarning: A column-vector y was passed when a 1d array was expected. Please change the shape of y to (n_samples,), for example using ravel().\n",
      "  if __name__ == '__main__':\n"
     ]
    },
    {
     "name": "stdout",
     "output_type": "stream",
     "text": [
      "RF's Accuracy is:  0.9522727272727273\n",
      "              precision    recall  f1-score   support\n",
      "\n",
      "           0       0.90      0.90      0.90        21\n",
      "           1       0.93      1.00      0.97        28\n",
      "           2       0.96      1.00      0.98        22\n",
      "           3       1.00      1.00      1.00        20\n",
      "           4       1.00      1.00      1.00        17\n",
      "           5       0.96      1.00      0.98        24\n",
      "           6       1.00      0.78      0.88        23\n",
      "           7       0.86      1.00      0.92        18\n",
      "           8       0.94      0.94      0.94        16\n",
      "           9       1.00      1.00      1.00        17\n",
      "          10       0.96      1.00      0.98        22\n",
      "          11       0.95      0.95      0.95        19\n",
      "          12       0.90      1.00      0.95        19\n",
      "          13       1.00      0.94      0.97        16\n",
      "          14       1.00      1.00      1.00        17\n",
      "          15       1.00      1.00      1.00        21\n",
      "          16       0.90      0.90      0.90        20\n",
      "          17       1.00      0.87      0.93        15\n",
      "          18       1.00      0.73      0.85        15\n",
      "          19       0.85      0.92      0.88        25\n",
      "          20       0.94      0.94      0.94        18\n",
      "          21       1.00      1.00      1.00        27\n",
      "\n",
      "    accuracy                           0.95       440\n",
      "   macro avg       0.96      0.95      0.95       440\n",
      "weighted avg       0.95      0.95      0.95       440\n",
      "\n"
     ]
    }
   ],
   "source": [
    "# RABDOM FOREST \n",
    "from sklearn.ensemble import RandomForestClassifier\n",
    "from sklearn.metrics import classification_report\n",
    "from sklearn import metrics\n",
    "from sklearn import tree\n",
    "acc=[]\n",
    "model=[]\n",
    "regressor = RandomForestClassifier(n_estimators=20, random_state=0)\n",
    "regressor.fit(Xtrain,Ytrain)\n",
    "\n",
    "predicted_values = regressor.predict(Xtest)\n",
    "\n",
    "x = metrics.accuracy_score(Ytest, predicted_values)\n",
    "acc.append(x)\n",
    "model.append('RF')\n",
    "print(\"RF's Accuracy is: \", x)\n",
    "\n",
    "print(classification_report(Ytest,predicted_values))"
   ]
  },
  {
   "cell_type": "code",
   "execution_count": 24,
   "metadata": {},
   "outputs": [
    {
     "name": "stdout",
     "output_type": "stream",
     "text": [
      "Naive Bayes's Accuracy is:  0.9636363636363636\n",
      "              precision    recall  f1-score   support\n",
      "\n",
      "           0       0.91      0.95      0.93        21\n",
      "           1       0.97      1.00      0.98        28\n",
      "           2       1.00      1.00      1.00        22\n",
      "           3       1.00      1.00      1.00        20\n",
      "           4       1.00      1.00      1.00        17\n",
      "           5       1.00      1.00      1.00        24\n",
      "           6       1.00      0.87      0.93        23\n",
      "           7       0.95      1.00      0.97        18\n",
      "           8       1.00      0.94      0.97        16\n",
      "           9       1.00      1.00      1.00        17\n",
      "          10       0.96      1.00      0.98        22\n",
      "          11       0.95      1.00      0.97        19\n",
      "          12       1.00      1.00      1.00        19\n",
      "          13       1.00      0.94      0.97        16\n",
      "          14       1.00      1.00      1.00        17\n",
      "          15       1.00      1.00      1.00        21\n",
      "          16       0.85      0.85      0.85        20\n",
      "          17       0.93      0.87      0.90        15\n",
      "          18       1.00      0.93      0.97        15\n",
      "          19       0.84      0.84      0.84        25\n",
      "          20       0.95      1.00      0.97        18\n",
      "          21       0.96      1.00      0.98        27\n",
      "\n",
      "    accuracy                           0.96       440\n",
      "   macro avg       0.97      0.96      0.96       440\n",
      "weighted avg       0.96      0.96      0.96       440\n",
      "\n"
     ]
    },
    {
     "name": "stderr",
     "output_type": "stream",
     "text": [
      "E:\\Users\\sai\\Anaconda3\\lib\\site-packages\\sklearn\\utils\\validation.py:72: DataConversionWarning: A column-vector y was passed when a 1d array was expected. Please change the shape of y to (n_samples, ), for example using ravel().\n",
      "  return f(**kwargs)\n"
     ]
    }
   ],
   "source": [
    "# NAVIE_BAYES\n",
    "from sklearn.naive_bayes import GaussianNB\n",
    "\n",
    "NaiveBayes = GaussianNB()\n",
    "\n",
    "NaiveBayes.fit(Xtrain,Ytrain)\n",
    "acc1 =[]\n",
    "model1 =[]\n",
    "predicted_values1 = NaiveBayes.predict(Xtest)\n",
    "x1= metrics.accuracy_score(Ytest, predicted_values1)\n",
    "acc1.append(x1)\n",
    "model1.append('Naive Bayes')\n",
    "print(\"Naive Bayes's Accuracy is: \", x1)\n",
    "\n",
    "print(classification_report(Ytest,predicted_values1))"
   ]
  },
  {
   "cell_type": "code",
   "execution_count": 25,
   "metadata": {},
   "outputs": [],
   "source": [
    "#index = ['mungbean','pomegranate','pigeonpeas','chickpea','papaya','lentil','cotton', 'jute','grapes',\n",
    "#'coffee','apple','maize', 'coconut',  'banana','mango','blackgram','orange', 'rice','watermelon',\n",
    "#'mothbeans','kidneybeans']"
   ]
  },
  {
   "cell_type": "code",
   "execution_count": 26,
   "metadata": {},
   "outputs": [],
   "source": [
    "#index = data['label']"
   ]
  },
  {
   "cell_type": "code",
   "execution_count": 27,
   "metadata": {},
   "outputs": [
    {
     "name": "stdout",
     "output_type": "stream",
     "text": [
      "      temperature   humidity        ph    rainfall      label  label1\n",
      "1207    12.141907  83.568125  5.647202   69.631220     grapes       7\n",
      "587     30.888831  52.626968  8.634930   55.519324  mothbeans      13\n",
      "893     27.996279  68.642859  7.327110   46.105852     lentil      10\n",
      "1127    29.980805  49.486133  6.442393   91.822716      mango      12\n",
      "1508    21.911913  91.687481  6.499227  117.076128      apple       0\n",
      "1905    24.694571  81.735888  6.628723   78.584944     cotton       6\n",
      "1132    35.787774  51.941903  5.395276  100.216061      mango      12\n",
      "2183    24.592457  56.468296  7.288212  137.704405     coffee       5\n",
      "278     19.462104  18.728320  7.217018   68.814051   chickpea       3\n",
      "----------------------------------\n",
      "5\n",
      "the suitable crop is coffee\n"
     ]
    }
   ],
   "source": [
    "y_p = regressor.predict(np.array([[27.35152643,55.99375012,7.13411409,148.98125249999998]]))\n",
    "y_list = (y_p.flatten('F'))\n",
    "import pandas as pd\n",
    "pd.set_option('display.max_columns', 34)\n",
    "print(data[:9])\n",
    "y_list = int(y_list)\n",
    "print(\"----------------------------------\")\n",
    "print(y_list)\n",
    "print(\"the suitable crop is\",index2[y_list])"
   ]
  },
  {
   "cell_type": "code",
   "execution_count": 28,
   "metadata": {},
   "outputs": [
    {
     "name": "stdout",
     "output_type": "stream",
     "text": [
      "      temperature   humidity        ph    rainfall      label  label1\n",
      "1207    12.141907  83.568125  5.647202   69.631220     grapes       7\n",
      "587     30.888831  52.626968  8.634930   55.519324  mothbeans      13\n",
      "893     27.996279  68.642859  7.327110   46.105852     lentil      10\n",
      "1127    29.980805  49.486133  6.442393   91.822716      mango      12\n",
      "1508    21.911913  91.687481  6.499227  117.076128      apple       0\n",
      "1905    24.694571  81.735888  6.628723   78.584944     cotton       6\n",
      "1132    35.787774  51.941903  5.395276  100.216061      mango      12\n",
      "2183    24.592457  56.468296  7.288212  137.704405     coffee       5\n",
      "278     19.462104  18.728320  7.217018   68.814051   chickpea       3\n",
      "----------------------------------\n",
      "5\n",
      "the suitable crop is coffee\n"
     ]
    }
   ],
   "source": [
    "y_p1 = NaiveBayes.predict(np.array([[27.35152643,55.99375012,7.13411409,148.98125249999998]]))\n",
    "y_list1 = (y_p1.flatten('F'))\n",
    "import pandas as pd\n",
    "pd.set_option('display.max_columns', 34)\n",
    "print(data[:9])\n",
    "y_list1 = int(y_list1)\n",
    "print(\"----------------------------------\")\n",
    "print(y_list1)\n",
    "print(\"the suitable crop is\",index2[y_list1])"
   ]
  },
  {
   "cell_type": "code",
   "execution_count": 29,
   "metadata": {},
   "outputs": [],
   "source": [
    "#import pickle\n",
    "# Save the Modle to file in the current working directory\n",
    "\n",
    "#Pkl_Filename = \"Crop_Recom_Model.pkl\"  \n",
    "\n",
    "#with open(Pkl_Filename, 'wb') as file:  \n",
    "#   pickle.dump(regressor, file)"
   ]
  },
  {
   "cell_type": "code",
   "execution_count": 30,
   "metadata": {},
   "outputs": [
    {
     "data": {
      "text/plain": [
       "RandomForestClassifier(n_estimators=20, random_state=0)"
      ]
     },
     "execution_count": 30,
     "metadata": {},
     "output_type": "execute_result"
    }
   ],
   "source": [
    "#with open(Pkl_Filename, 'rb') as file:  \n",
    "#    Pickled_Model = pickle.load(file)\n",
    "\n",
    "#Pickled_Model"
   ]
  },
  {
   "cell_type": "code",
   "execution_count": 31,
   "metadata": {},
   "outputs": [
    {
     "name": "stdout",
     "output_type": "stream",
     "text": [
      "the suitable crop is coffee\n"
     ]
    }
   ],
   "source": [
    "#p = Pickled_Model.predict(np.array([[27.35152643,55.99375012,7.13411409,148.98125249999998]]))\n",
    "#ylist = int(p.flatten('F'))\n",
    "#print(\"the suitable crop is\",index2[y_list])"
   ]
  },
  {
   "cell_type": "code",
   "execution_count": null,
   "metadata": {},
   "outputs": [],
   "source": [
    "#import pandas as pd\n",
    "#pd.set_option('display.max_columns', 34)\n",
    "#print(data[:9])\n",
    "#ylist = int(ylist)\n",
    "#print(\"----------------------------------\")\n",
    "#print(ylist)"
   ]
  }
 ],
 "metadata": {
  "kernelspec": {
   "display_name": "Python 3",
   "language": "python",
   "name": "python3"
  },
  "language_info": {
   "codemirror_mode": {
    "name": "ipython",
    "version": 3
   },
   "file_extension": ".py",
   "mimetype": "text/x-python",
   "name": "python",
   "nbconvert_exporter": "python",
   "pygments_lexer": "ipython3",
   "version": "3.7.3"
  }
 },
 "nbformat": 4,
 "nbformat_minor": 2
}
